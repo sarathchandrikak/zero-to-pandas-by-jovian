{
  "nbformat": 4,
  "nbformat_minor": 0,
  "metadata": {
    "colab": {
      "name": "Assignment 2 - Five Numpy Functions",
      "provenance": [],
      "collapsed_sections": []
    },
    "kernelspec": {
      "display_name": "Python 3 (ipykernel)",
      "language": "python",
      "name": "python3"
    },
    "language_info": {
      "codemirror_mode": {
        "name": "ipython",
        "version": 3
      },
      "file_extension": ".py",
      "mimetype": "text/x-python",
      "name": "python",
      "nbconvert_exporter": "python",
      "pygments_lexer": "ipython3",
      "version": "3.9.6"
    }
  },
  "cells": [
    {
      "cell_type": "code",
      "metadata": {
        "id": "Vd10n7GRqu-X"
      },
      "source": [
        "import numpy as np"
      ],
      "execution_count": 1,
      "outputs": []
    },
    {
      "cell_type": "code",
      "metadata": {
        "id": "xnk33zSequ-Y"
      },
      "source": [
        "# List of functions explained \n",
        "function1 = np.vdot \n",
        "function2 = np.squeeze\n",
        "function3 = np.ravel\n",
        "function4 = np.bitwise_and\n",
        "function5 = np.correlate"
      ],
      "execution_count": 2,
      "outputs": []
    },
    {
      "cell_type": "markdown",
      "metadata": {
        "id": "D15rmqdSqu-a"
      },
      "source": [
        "## Function 1 - np.vdot \n",
        "\n",
        "Vector Dot Product"
      ]
    },
    {
      "cell_type": "code",
      "metadata": {
        "colab": {
          "base_uri": "https://localhost:8080/"
        },
        "id": "vu6j6lvzqu-d",
        "outputId": "386d6b62-dee7-4081-b527-759e8872adb2"
      },
      "source": [
        "# Example 1 - working (change this)\n",
        "v1 = [1, 2]\n",
        "\n",
        "v2 = [5, 6]\n",
        "\n",
        "np.vdot(v1, v2)"
      ],
      "execution_count": 3,
      "outputs": [
        {
          "output_type": "execute_result",
          "data": {
            "text/plain": [
              "17"
            ]
          },
          "metadata": {
            "tags": []
          },
          "execution_count": 3
        }
      ]
    },
    {
      "cell_type": "code",
      "metadata": {
        "colab": {
          "base_uri": "https://localhost:8080/"
        },
        "id": "D8lVCRLtqu-i",
        "outputId": "a26a1d18-2c7e-4d5d-c03e-ff2bdc011d49"
      },
      "source": [
        "# Example 2 - working\n",
        "v1 = [1,2,3]\n",
        "      \n",
        "v2 = [4,5,6]\n",
        "np.vdot(v1, v2)"
      ],
      "execution_count": 4,
      "outputs": [
        {
          "output_type": "execute_result",
          "data": {
            "text/plain": [
              "32"
            ]
          },
          "metadata": {
            "tags": []
          },
          "execution_count": 4
        }
      ]
    },
    {
      "cell_type": "markdown",
      "metadata": {
        "id": "tbx3y6P9qu-k"
      },
      "source": [
        "vdot does dot product of two vectors of same dimension"
      ]
    },
    {
      "cell_type": "code",
      "metadata": {
        "colab": {
          "base_uri": "https://localhost:8080/",
          "height": 290
        },
        "id": "86l0N_iJqu-l",
        "outputId": "f342a5d8-f12f-4c62-cf86-20fc31a47660"
      },
      "source": [
        "# Example 3 - breaking (to illustrate when it breaks)\n",
        "v1 = [1, 2]\n",
        "\n",
        "v2 = [5, 6, 7]\n",
        "\n",
        "np.vdot(v1, v2)"
      ],
      "execution_count": 5,
      "outputs": [
        {
          "output_type": "error",
          "ename": "ValueError",
          "evalue": "ignored",
          "traceback": [
            "\u001b[0;31m---------------------------------------------------------------------------\u001b[0m",
            "\u001b[0;31mValueError\u001b[0m                                Traceback (most recent call last)",
            "\u001b[0;32m<ipython-input-5-c757db1bce2e>\u001b[0m in \u001b[0;36m<module>\u001b[0;34m()\u001b[0m\n\u001b[1;32m      4\u001b[0m \u001b[0mv2\u001b[0m \u001b[0;34m=\u001b[0m \u001b[0;34m[\u001b[0m\u001b[0;36m5\u001b[0m\u001b[0;34m,\u001b[0m \u001b[0;36m6\u001b[0m\u001b[0;34m,\u001b[0m \u001b[0;36m7\u001b[0m\u001b[0;34m]\u001b[0m\u001b[0;34m\u001b[0m\u001b[0;34m\u001b[0m\u001b[0m\n\u001b[1;32m      5\u001b[0m \u001b[0;34m\u001b[0m\u001b[0m\n\u001b[0;32m----> 6\u001b[0;31m \u001b[0mnp\u001b[0m\u001b[0;34m.\u001b[0m\u001b[0mvdot\u001b[0m\u001b[0;34m(\u001b[0m\u001b[0mv1\u001b[0m\u001b[0;34m,\u001b[0m \u001b[0mv2\u001b[0m\u001b[0;34m)\u001b[0m\u001b[0;34m\u001b[0m\u001b[0;34m\u001b[0m\u001b[0m\n\u001b[0m",
            "\u001b[0;32m<__array_function__ internals>\u001b[0m in \u001b[0;36mvdot\u001b[0;34m(*args, **kwargs)\u001b[0m\n",
            "\u001b[0;31mValueError\u001b[0m: cannot reshape array of size 3 into shape (2,)"
          ]
        }
      ]
    },
    {
      "cell_type": "markdown",
      "metadata": {
        "id": "2mG7zR9pqu-m"
      },
      "source": [
        "It does vector dot product of two vectors with same dimension, not with different dimensions"
      ]
    },
    {
      "cell_type": "markdown",
      "metadata": {
        "id": "LH1Bs-wQqu-o"
      },
      "source": [
        "It can be used only for vectors, Not for arrays and np.vdot is different from np.dot"
      ]
    },
    {
      "cell_type": "markdown",
      "metadata": {
        "id": "3uOAZk-Kqu-q"
      },
      "source": [
        "## Function 2 - np.squeeze\n",
        "\n",
        "Remove axes of length one from array"
      ]
    },
    {
      "cell_type": "code",
      "metadata": {
        "colab": {
          "base_uri": "https://localhost:8080/"
        },
        "id": "VjTYsdXaqu-s",
        "outputId": "cf4934ae-44cc-4f9f-fa4d-e530fb1edf33"
      },
      "source": [
        "# Example 1 - working\n",
        "\n",
        "x = np.array([[[1],[2],[4]]])\n",
        "np.squeeze(x)\n"
      ],
      "execution_count": 6,
      "outputs": [
        {
          "output_type": "execute_result",
          "data": {
            "text/plain": [
              "array([1, 2, 4])"
            ]
          },
          "metadata": {
            "tags": []
          },
          "execution_count": 6
        }
      ]
    },
    {
      "cell_type": "code",
      "metadata": {
        "colab": {
          "base_uri": "https://localhost:8080/"
        },
        "id": "LllnyE0bqu-4",
        "outputId": "dec53414-f28a-4847-ef56-6101b4916f65"
      },
      "source": [
        "# Example 2 - working\n",
        "\n",
        "x = np.array([[[1],[2],[4]]])\n",
        "np.squeeze(x, axis=0)"
      ],
      "execution_count": 7,
      "outputs": [
        {
          "output_type": "execute_result",
          "data": {
            "text/plain": [
              "array([[1],\n",
              "       [2],\n",
              "       [4]])"
            ]
          },
          "metadata": {
            "tags": []
          },
          "execution_count": 7
        }
      ]
    },
    {
      "cell_type": "markdown",
      "metadata": {
        "id": "66bOckIIqu-6"
      },
      "source": [
        "It squeezes the given array to speicifed axis"
      ]
    },
    {
      "cell_type": "code",
      "metadata": {
        "colab": {
          "base_uri": "https://localhost:8080/",
          "height": 444
        },
        "id": "6XaR5qmbqu-7",
        "outputId": "772b0455-6161-48d6-b14b-027b3af9df72"
      },
      "source": [
        "# Example 3 - breaking (to illustrate when it breaks)\n",
        "\n",
        "x = np.array([[[1],[2],[4]]])\n",
        "np.squeeze(x, axis=1)"
      ],
      "execution_count": 8,
      "outputs": [
        {
          "output_type": "error",
          "ename": "ValueError",
          "evalue": "ignored",
          "traceback": [
            "\u001b[0;31m---------------------------------------------------------------------------\u001b[0m",
            "\u001b[0;31mValueError\u001b[0m                                Traceback (most recent call last)",
            "\u001b[0;32m<ipython-input-8-fcf147f074bf>\u001b[0m in \u001b[0;36m<module>\u001b[0;34m()\u001b[0m\n\u001b[1;32m      2\u001b[0m \u001b[0;34m\u001b[0m\u001b[0m\n\u001b[1;32m      3\u001b[0m \u001b[0mx\u001b[0m \u001b[0;34m=\u001b[0m \u001b[0mnp\u001b[0m\u001b[0;34m.\u001b[0m\u001b[0marray\u001b[0m\u001b[0;34m(\u001b[0m\u001b[0;34m[\u001b[0m\u001b[0;34m[\u001b[0m\u001b[0;34m[\u001b[0m\u001b[0;36m1\u001b[0m\u001b[0;34m]\u001b[0m\u001b[0;34m,\u001b[0m\u001b[0;34m[\u001b[0m\u001b[0;36m2\u001b[0m\u001b[0;34m]\u001b[0m\u001b[0;34m,\u001b[0m\u001b[0;34m[\u001b[0m\u001b[0;36m4\u001b[0m\u001b[0;34m]\u001b[0m\u001b[0;34m]\u001b[0m\u001b[0;34m]\u001b[0m\u001b[0;34m)\u001b[0m\u001b[0;34m\u001b[0m\u001b[0;34m\u001b[0m\u001b[0m\n\u001b[0;32m----> 4\u001b[0;31m \u001b[0mnp\u001b[0m\u001b[0;34m.\u001b[0m\u001b[0msqueeze\u001b[0m\u001b[0;34m(\u001b[0m\u001b[0mx\u001b[0m\u001b[0;34m,\u001b[0m \u001b[0maxis\u001b[0m\u001b[0;34m=\u001b[0m\u001b[0;36m1\u001b[0m\u001b[0;34m)\u001b[0m\u001b[0;34m\u001b[0m\u001b[0;34m\u001b[0m\u001b[0m\n\u001b[0m",
            "\u001b[0;32m<__array_function__ internals>\u001b[0m in \u001b[0;36msqueeze\u001b[0;34m(*args, **kwargs)\u001b[0m\n",
            "\u001b[0;32m/usr/local/lib/python3.7/dist-packages/numpy/core/fromnumeric.py\u001b[0m in \u001b[0;36msqueeze\u001b[0;34m(a, axis)\u001b[0m\n\u001b[1;32m   1493\u001b[0m         \u001b[0;32mreturn\u001b[0m \u001b[0msqueeze\u001b[0m\u001b[0;34m(\u001b[0m\u001b[0;34m)\u001b[0m\u001b[0;34m\u001b[0m\u001b[0;34m\u001b[0m\u001b[0m\n\u001b[1;32m   1494\u001b[0m     \u001b[0;32melse\u001b[0m\u001b[0;34m:\u001b[0m\u001b[0;34m\u001b[0m\u001b[0;34m\u001b[0m\u001b[0m\n\u001b[0;32m-> 1495\u001b[0;31m         \u001b[0;32mreturn\u001b[0m \u001b[0msqueeze\u001b[0m\u001b[0;34m(\u001b[0m\u001b[0maxis\u001b[0m\u001b[0;34m=\u001b[0m\u001b[0maxis\u001b[0m\u001b[0;34m)\u001b[0m\u001b[0;34m\u001b[0m\u001b[0;34m\u001b[0m\u001b[0m\n\u001b[0m\u001b[1;32m   1496\u001b[0m \u001b[0;34m\u001b[0m\u001b[0m\n\u001b[1;32m   1497\u001b[0m \u001b[0;34m\u001b[0m\u001b[0m\n",
            "\u001b[0;31mValueError\u001b[0m: cannot select an axis to squeeze out which has size not equal to one"
          ]
        }
      ]
    },
    {
      "cell_type": "markdown",
      "metadata": {
        "id": "elTVf5pjqu-8"
      },
      "source": [
        "It doesn't take axis = 1 to squeeze"
      ]
    },
    {
      "cell_type": "markdown",
      "metadata": {
        "id": "SCTmLFlwqu-8"
      },
      "source": [
        "squeeze() function is used when we want to remove single-dimensional entries from the shape of an array."
      ]
    },
    {
      "cell_type": "markdown",
      "metadata": {
        "id": "K-cywvRHqu-_"
      },
      "source": [
        "## Function 3 - np.ravel\n",
        "\n",
        "Returns a contiguous flattened array"
      ]
    },
    {
      "cell_type": "code",
      "metadata": {
        "colab": {
          "base_uri": "https://localhost:8080/"
        },
        "id": "9RjZS5sQqu_A",
        "outputId": "d5b4a275-393e-477c-bcb8-a20d3912044c"
      },
      "source": [
        "# Example 1 - working\n",
        "x = np.array([[1, 2, 3], [4, 5, 6]])\n",
        "np.ravel(x)"
      ],
      "execution_count": 9,
      "outputs": [
        {
          "output_type": "execute_result",
          "data": {
            "text/plain": [
              "array([1, 2, 3, 4, 5, 6])"
            ]
          },
          "metadata": {
            "tags": []
          },
          "execution_count": 9
        }
      ]
    },
    {
      "cell_type": "markdown",
      "metadata": {
        "id": "3SwWuqzDqu_B"
      },
      "source": [
        "Gives a contiguous array"
      ]
    },
    {
      "cell_type": "code",
      "metadata": {
        "id": "rQcXiBdmqu_B",
        "colab": {
          "base_uri": "https://localhost:8080/"
        },
        "outputId": "b8379c72-c529-4630-e4ed-6cfe3cd198b6"
      },
      "source": [
        "# Example 2 - working\n",
        "x = np.array([[1, 2, 3], [55, 45, 6], [7,8,9]])\n",
        "np.ravel(x)"
      ],
      "execution_count": 10,
      "outputs": [
        {
          "output_type": "execute_result",
          "data": {
            "text/plain": [
              "array([ 1,  2,  3, 55, 45,  6,  7,  8,  9])"
            ]
          },
          "metadata": {
            "tags": []
          },
          "execution_count": 10
        }
      ]
    },
    {
      "cell_type": "markdown",
      "metadata": {
        "id": "gbJJnu5Kqu_C"
      },
      "source": [
        "Gives a contiguous array "
      ]
    },
    {
      "cell_type": "code",
      "metadata": {
        "id": "-bYStmbLqu_C",
        "colab": {
          "base_uri": "https://localhost:8080/",
          "height": 246
        },
        "outputId": "e6623ed6-52c9-4ed1-8fed-6b2420e99d14"
      },
      "source": [
        "# Example 3 - breaking (to illustrate when it breaks)\n",
        "x = np.array([[1, 2, 3], [4, 5, 6]])\n",
        "x.ravel(order='V')"
      ],
      "execution_count": 11,
      "outputs": [
        {
          "output_type": "error",
          "ename": "ValueError",
          "evalue": "ignored",
          "traceback": [
            "\u001b[0;31m---------------------------------------------------------------------------\u001b[0m",
            "\u001b[0;31mValueError\u001b[0m                                Traceback (most recent call last)",
            "\u001b[0;32m<ipython-input-11-0a20b1c5b575>\u001b[0m in \u001b[0;36m<module>\u001b[0;34m()\u001b[0m\n\u001b[1;32m      1\u001b[0m \u001b[0;31m# Example 3 - breaking (to illustrate when it breaks)\u001b[0m\u001b[0;34m\u001b[0m\u001b[0;34m\u001b[0m\u001b[0;34m\u001b[0m\u001b[0m\n\u001b[1;32m      2\u001b[0m \u001b[0mx\u001b[0m \u001b[0;34m=\u001b[0m \u001b[0mnp\u001b[0m\u001b[0;34m.\u001b[0m\u001b[0marray\u001b[0m\u001b[0;34m(\u001b[0m\u001b[0;34m[\u001b[0m\u001b[0;34m[\u001b[0m\u001b[0;36m1\u001b[0m\u001b[0;34m,\u001b[0m \u001b[0;36m2\u001b[0m\u001b[0;34m,\u001b[0m \u001b[0;36m3\u001b[0m\u001b[0;34m]\u001b[0m\u001b[0;34m,\u001b[0m \u001b[0;34m[\u001b[0m\u001b[0;36m4\u001b[0m\u001b[0;34m,\u001b[0m \u001b[0;36m5\u001b[0m\u001b[0;34m,\u001b[0m \u001b[0;36m6\u001b[0m\u001b[0;34m]\u001b[0m\u001b[0;34m]\u001b[0m\u001b[0;34m)\u001b[0m\u001b[0;34m\u001b[0m\u001b[0;34m\u001b[0m\u001b[0m\n\u001b[0;32m----> 3\u001b[0;31m \u001b[0mx\u001b[0m\u001b[0;34m.\u001b[0m\u001b[0mravel\u001b[0m\u001b[0;34m(\u001b[0m\u001b[0morder\u001b[0m\u001b[0;34m=\u001b[0m\u001b[0;34m'V'\u001b[0m\u001b[0;34m)\u001b[0m\u001b[0;34m\u001b[0m\u001b[0;34m\u001b[0m\u001b[0m\n\u001b[0m",
            "\u001b[0;31mValueError\u001b[0m: order must be one of 'C', 'F', 'A', or 'K' (got 'V')"
          ]
        }
      ]
    },
    {
      "cell_type": "markdown",
      "metadata": {
        "id": "C1bO3MeAqu_E"
      },
      "source": [
        "Ravel takes only C,F,A,K as order arguments. Any alphabet other than that is an error. "
      ]
    },
    {
      "cell_type": "markdown",
      "metadata": {
        "id": "sLezWp0yqu_E"
      },
      "source": [
        "It can be used when 2-d array or multi dimensional array needs to be converted to single 1-d array"
      ]
    },
    {
      "cell_type": "markdown",
      "metadata": {
        "id": "O_Cetdanqu_V"
      },
      "source": [
        "## Function 4 - np.bitwise_and\n",
        "\n",
        "Calculates the and operation on integers that are converted to binary and returns the result."
      ]
    },
    {
      "cell_type": "code",
      "metadata": {
        "id": "2XGZCUnOqu_W",
        "colab": {
          "base_uri": "https://localhost:8080/"
        },
        "outputId": "5af68337-7a0d-451c-a272-79714baf337e"
      },
      "source": [
        "# Example 1 - working\n",
        "a = np.array([[-1, 2], [3, 4]])\n",
        "b = np.array([4,5])\n",
        "np.bitwise_and(a,b)"
      ],
      "execution_count": 12,
      "outputs": [
        {
          "output_type": "execute_result",
          "data": {
            "text/plain": [
              "array([[4, 0],\n",
              "       [0, 4]])"
            ]
          },
          "metadata": {
            "tags": []
          },
          "execution_count": 12
        }
      ]
    },
    {
      "cell_type": "markdown",
      "metadata": {
        "id": "DkwOVQMIqu_W"
      },
      "source": [
        "Mathematical calculation of bitwise and of the given arrays. Converts the given numbers to binary and computes the and operation on binary numbers and returns the result."
      ]
    },
    {
      "cell_type": "code",
      "metadata": {
        "id": "nrDb6reqqu_Y",
        "scrolled": true,
        "colab": {
          "base_uri": "https://localhost:8080/"
        },
        "outputId": "75b5eaf3-51ac-43cb-b695-a3af570f37e9"
      },
      "source": [
        "# Example 2 - working\n",
        "a = np.array([1])\n",
        "b = np.array([4])\n",
        "np.bitwise_and(a,b)\n"
      ],
      "execution_count": 13,
      "outputs": [
        {
          "output_type": "execute_result",
          "data": {
            "text/plain": [
              "array([0])"
            ]
          },
          "metadata": {
            "tags": []
          },
          "execution_count": 13
        }
      ]
    },
    {
      "cell_type": "code",
      "metadata": {
        "id": "PJmDRQHyqu_a",
        "colab": {
          "base_uri": "https://localhost:8080/",
          "height": 268
        },
        "outputId": "b4f6e5f6-4052-4ea0-843c-c570f77cd9d9"
      },
      "source": [
        "# Example 3 - breaking (to illustrate when it breaks)\n",
        "a = np.array([45])\n",
        "b = np.array(['String'])\n",
        "np.bitwise_and(a,b)\n"
      ],
      "execution_count": 14,
      "outputs": [
        {
          "output_type": "error",
          "ename": "TypeError",
          "evalue": "ignored",
          "traceback": [
            "\u001b[0;31m---------------------------------------------------------------------------\u001b[0m",
            "\u001b[0;31mTypeError\u001b[0m                                 Traceback (most recent call last)",
            "\u001b[0;32m<ipython-input-14-05a26693c555>\u001b[0m in \u001b[0;36m<module>\u001b[0;34m()\u001b[0m\n\u001b[1;32m      2\u001b[0m \u001b[0ma\u001b[0m \u001b[0;34m=\u001b[0m \u001b[0mnp\u001b[0m\u001b[0;34m.\u001b[0m\u001b[0marray\u001b[0m\u001b[0;34m(\u001b[0m\u001b[0;34m[\u001b[0m\u001b[0;36m45\u001b[0m\u001b[0;34m]\u001b[0m\u001b[0;34m)\u001b[0m\u001b[0;34m\u001b[0m\u001b[0;34m\u001b[0m\u001b[0m\n\u001b[1;32m      3\u001b[0m \u001b[0mb\u001b[0m \u001b[0;34m=\u001b[0m \u001b[0mnp\u001b[0m\u001b[0;34m.\u001b[0m\u001b[0marray\u001b[0m\u001b[0;34m(\u001b[0m\u001b[0;34m[\u001b[0m\u001b[0;34m'String'\u001b[0m\u001b[0;34m]\u001b[0m\u001b[0;34m)\u001b[0m\u001b[0;34m\u001b[0m\u001b[0;34m\u001b[0m\u001b[0m\n\u001b[0;32m----> 4\u001b[0;31m \u001b[0mnp\u001b[0m\u001b[0;34m.\u001b[0m\u001b[0mbitwise_and\u001b[0m\u001b[0;34m(\u001b[0m\u001b[0ma\u001b[0m\u001b[0;34m,\u001b[0m\u001b[0mb\u001b[0m\u001b[0;34m)\u001b[0m\u001b[0;34m\u001b[0m\u001b[0;34m\u001b[0m\u001b[0m\n\u001b[0m",
            "\u001b[0;31mTypeError\u001b[0m: ufunc 'bitwise_and' not supported for the input types, and the inputs could not be safely coerced to any supported types according to the casting rule ''safe''"
          ]
        }
      ]
    },
    {
      "cell_type": "markdown",
      "metadata": {
        "id": "wQ8Dcn6jqu_c"
      },
      "source": [
        "Bitwise_and takes only integer values. It doesn't take other data types. In this one input is a string."
      ]
    },
    {
      "cell_type": "markdown",
      "metadata": {
        "id": "l1RQ911-qu_d"
      },
      "source": [
        "To check some logical operations in the code. To assign some flags based on certain conditions. We can check if the conditions are true by bitwise_and on integers. "
      ]
    },
    {
      "cell_type": "markdown",
      "metadata": {
        "id": "LvdYpfV1qu_f"
      },
      "source": [
        "## Function 5 - np.correlate\n",
        "\n",
        "Cross-correlation of two 1-dimensional sequences."
      ]
    },
    {
      "cell_type": "code",
      "metadata": {
        "id": "iKHknDiSqu_h",
        "colab": {
          "base_uri": "https://localhost:8080/"
        },
        "outputId": "710e5e71-ee1c-44f3-d429-0069198a723d"
      },
      "source": [
        "# Example 1 - working\n",
        "np.correlate([1,2,3], [9,5,6])\n"
      ],
      "execution_count": 15,
      "outputs": [
        {
          "output_type": "execute_result",
          "data": {
            "text/plain": [
              "array([37])"
            ]
          },
          "metadata": {
            "tags": []
          },
          "execution_count": 15
        }
      ]
    },
    {
      "cell_type": "code",
      "metadata": {
        "id": "_0EF3OIyqu_i",
        "colab": {
          "base_uri": "https://localhost:8080/"
        },
        "outputId": "75f6857e-ca60-4184-a9e2-5379213fd6d0"
      },
      "source": [
        "# Example 2 - working\n",
        "np.correlate([1, 2, 3], [0, 10, 0.15], \"same\")"
      ],
      "execution_count": 16,
      "outputs": [
        {
          "output_type": "execute_result",
          "data": {
            "text/plain": [
              "array([10.3 , 20.45, 30.  ])"
            ]
          },
          "metadata": {
            "tags": []
          },
          "execution_count": 16
        }
      ]
    },
    {
      "cell_type": "code",
      "metadata": {
        "id": "Dra2ZX64qu_j",
        "colab": {
          "base_uri": "https://localhost:8080/",
          "height": 422
        },
        "outputId": "f1b81ba2-a89b-465f-9ef9-7b7a443404f6"
      },
      "source": [
        "# Example 3 - breaking (to illustrate when it breaks)\n",
        "np.correlate([2,4,5], 3)"
      ],
      "execution_count": 17,
      "outputs": [
        {
          "output_type": "error",
          "ename": "ValueError",
          "evalue": "ignored",
          "traceback": [
            "\u001b[0;31m---------------------------------------------------------------------------\u001b[0m",
            "\u001b[0;31mValueError\u001b[0m                                Traceback (most recent call last)",
            "\u001b[0;32m<ipython-input-17-11319d48f341>\u001b[0m in \u001b[0;36m<module>\u001b[0;34m()\u001b[0m\n\u001b[1;32m      1\u001b[0m \u001b[0;31m# Example 3 - breaking (to illustrate when it breaks)\u001b[0m\u001b[0;34m\u001b[0m\u001b[0;34m\u001b[0m\u001b[0;34m\u001b[0m\u001b[0m\n\u001b[0;32m----> 2\u001b[0;31m \u001b[0mnp\u001b[0m\u001b[0;34m.\u001b[0m\u001b[0mcorrelate\u001b[0m\u001b[0;34m(\u001b[0m\u001b[0;34m[\u001b[0m\u001b[0;36m2\u001b[0m\u001b[0;34m,\u001b[0m\u001b[0;36m4\u001b[0m\u001b[0;34m,\u001b[0m\u001b[0;36m5\u001b[0m\u001b[0;34m]\u001b[0m\u001b[0;34m,\u001b[0m \u001b[0;36m3\u001b[0m\u001b[0;34m)\u001b[0m\u001b[0;34m\u001b[0m\u001b[0;34m\u001b[0m\u001b[0m\n\u001b[0m",
            "\u001b[0;32m<__array_function__ internals>\u001b[0m in \u001b[0;36mcorrelate\u001b[0;34m(*args, **kwargs)\u001b[0m\n",
            "\u001b[0;32m/usr/local/lib/python3.7/dist-packages/numpy/core/numeric.py\u001b[0m in \u001b[0;36mcorrelate\u001b[0;34m(a, v, mode)\u001b[0m\n\u001b[1;32m    711\u001b[0m     \"\"\"\n\u001b[1;32m    712\u001b[0m     \u001b[0mmode\u001b[0m \u001b[0;34m=\u001b[0m \u001b[0m_mode_from_name\u001b[0m\u001b[0;34m(\u001b[0m\u001b[0mmode\u001b[0m\u001b[0;34m)\u001b[0m\u001b[0;34m\u001b[0m\u001b[0;34m\u001b[0m\u001b[0m\n\u001b[0;32m--> 713\u001b[0;31m     \u001b[0;32mreturn\u001b[0m \u001b[0mmultiarray\u001b[0m\u001b[0;34m.\u001b[0m\u001b[0mcorrelate2\u001b[0m\u001b[0;34m(\u001b[0m\u001b[0ma\u001b[0m\u001b[0;34m,\u001b[0m \u001b[0mv\u001b[0m\u001b[0;34m,\u001b[0m \u001b[0mmode\u001b[0m\u001b[0;34m)\u001b[0m\u001b[0;34m\u001b[0m\u001b[0;34m\u001b[0m\u001b[0m\n\u001b[0m\u001b[1;32m    714\u001b[0m \u001b[0;34m\u001b[0m\u001b[0m\n\u001b[1;32m    715\u001b[0m \u001b[0;34m\u001b[0m\u001b[0m\n",
            "\u001b[0;31mValueError\u001b[0m: object of too small depth for desired array"
          ]
        }
      ]
    },
    {
      "cell_type": "markdown",
      "metadata": {
        "id": "L5jQRseRqu_k"
      },
      "source": [
        "np.correlate takes both the arguments as arrays. In the above example one of the argument is integer and not array."
      ]
    },
    {
      "cell_type": "markdown",
      "metadata": {
        "id": "-gBI7mDaqu_k"
      },
      "source": [
        "Correlation is used to find the degree of dependence on two columns. More the correlation higher the dependence or importance."
      ]
    },
    {
      "cell_type": "markdown",
      "metadata": {
        "heading_collapsed": true,
        "id": "zgpvgi4Squ_m"
      },
      "source": [
        "## Conclusion\n",
        "\n",
        "5 different functions out of many numpy functions are discussed and certain cases where these functions fail are also demonstrated."
      ]
    },
    {
      "cell_type": "markdown",
      "metadata": {
        "id": "xTyabKeFqu_n"
      },
      "source": [
        "## Reference Links\n",
        "Provide links to your references and other interesting articles about Numpy arrays:\n",
        "* Numpy official tutorial : https://numpy.org/doc/stable/user/quickstart.html\n",
        "* Geeks for geeks numpy tutorial: https://www.geeksforgeeks.org/python-numpy/\n"
      ]
    }
  ]
}